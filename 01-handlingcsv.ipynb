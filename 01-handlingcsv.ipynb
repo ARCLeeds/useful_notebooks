{
 "cells": [
  {
   "cell_type": "markdown",
   "metadata": {},
   "source": [
    "## Handling CSV data and accessing APIs"
   ]
  },
  {
   "cell_type": "code",
   "execution_count": 1,
   "metadata": {
    "collapsed": false
   },
   "outputs": [
    {
     "name": "stdout",
     "output_type": "stream",
     "text": [
      "10\n",
      "10\n",
      "10\n"
     ]
    }
   ],
   "source": [
    "with open ('test01.csv', 'r') as reader:\n",
    "    for line in reader:\n",
    "        print (len(line))"
   ]
  },
  {
   "cell_type": "code",
   "execution_count": 3,
   "metadata": {
    "collapsed": false
   },
   "outputs": [
    {
     "name": "stdout",
     "output_type": "stream",
     "text": [
      "['1901', '12.3']\n",
      "['1902', '45.6']\n",
      "['1903', '78.9']\n"
     ]
    }
   ],
   "source": [
    "with open ('test01.csv', 'r') as reader:\n",
    "    for line in reader:\n",
    "        fields=line.strip().split(',')\n",
    "        print (fields)"
   ]
  },
  {
   "cell_type": "code",
   "execution_count": 42,
   "metadata": {
    "collapsed": true
   },
   "outputs": [],
   "source": [
    "import requests\n",
    "import csv"
   ]
  },
  {
   "cell_type": "code",
   "execution_count": 43,
   "metadata": {
    "collapsed": false
   },
   "outputs": [
    {
     "name": "stdout",
     "output_type": "stream",
     "text": [
      "1901 -7.67241907119751\n",
      "1902 -7.862711429595947\n",
      "1903 -7.910782814025879\n",
      "1904 -8.155729293823242\n",
      "1905 -7.547311305999756\n",
      "1906 -7.684103488922119\n",
      "1907 -8.413553237915039\n",
      "1908 -7.790929317474365\n",
      "1909 -8.23930549621582\n",
      "1910 -7.774611473083496\n",
      "1911 -8.114446640014648\n",
      "1912 -7.885402679443359\n",
      "1913 -7.987940311431885\n",
      "1914 -7.965937614440918\n",
      "1915 -7.144039154052734\n",
      "1916 -8.132978439331055\n",
      "1917 -8.499914169311523\n",
      "1918 -8.204662322998047\n",
      "1919 -8.035985946655273\n",
      "1920 -7.830679893493652\n",
      "1921 -7.685777187347412\n",
      "1922 -8.334989547729492\n",
      "1923 -8.022125244140625\n",
      "1924 -7.574568271636963\n",
      "1925 -7.951625823974609\n",
      "1926 -7.792789459228516\n",
      "1927 -7.961727142333984\n",
      "1928 -7.237975120544434\n",
      "1929 -8.123651504516602\n",
      "1930 -7.302305698394775\n",
      "1931 -6.646339416503906\n",
      "1932 -7.821688652038574\n",
      "1933 -8.693134307861328\n",
      "1934 -7.964327335357666\n",
      "1935 -8.166967391967773\n",
      "1936 -8.59422492980957\n",
      "1937 -7.3392534255981445\n",
      "1938 -6.856348991394043\n",
      "1939 -7.669107913970947\n",
      "1940 -6.799381256103516\n",
      "1941 -7.233104705810547\n",
      "1942 -7.097812652587891\n",
      "1943 -7.2231879234313965\n",
      "1944 -6.603946685791016\n",
      "1945 -7.646345615386963\n",
      "1946 -7.739509582519531\n",
      "1947 -7.161524295806885\n",
      "1948 -7.659969329833984\n",
      "1949 -7.696352958679199\n",
      "1950 -8.517829895019531\n",
      "1951 -7.903929710388184\n",
      "1952 -6.680769920349121\n",
      "1953 -6.7539520263671875\n",
      "1954 -7.334064483642578\n",
      "1955 -7.586000919342041\n",
      "1956 -8.27430534362793\n",
      "1957 -7.763300895690918\n",
      "1958 -6.903257846832275\n",
      "1959 -7.8713836669921875\n",
      "1960 -6.951033115386963\n",
      "1961 -7.946412086486816\n",
      "1962 -7.465360164642334\n",
      "1963 -7.363328456878662\n",
      "1964 -8.241130828857422\n",
      "1965 -8.078269958496094\n",
      "1966 -7.83267879486084\n",
      "1967 -7.973592281341553\n",
      "1968 -7.3681206703186035\n",
      "1969 -7.0392913818359375\n",
      "1970 -7.720573425292969\n",
      "1971 -7.469780921936035\n",
      "1972 -9.525187492370605\n",
      "1973 -6.853341579437256\n",
      "1974 -8.428787231445312\n",
      "1975 -7.621856689453125\n",
      "1976 -7.588895320892334\n",
      "1977 -6.557257652282715\n",
      "1978 -7.993335723876953\n",
      "1979 -7.845717430114746\n",
      "1980 -7.049171447753906\n",
      "1981 -5.506665229797363\n",
      "1982 -8.5137939453125\n",
      "1983 -7.463536262512207\n",
      "1984 -7.414198398590088\n",
      "1985 -7.432916164398193\n",
      "1986 -7.71035099029541\n",
      "1987 -6.4537835121154785\n",
      "1988 -6.610030174255371\n",
      "1989 -7.706485748291016\n",
      "1990 -7.6779985427856445\n",
      "1991 -7.095147132873535\n",
      "1992 -7.697887420654297\n",
      "1993 -6.986419677734375\n",
      "1994 -6.888780117034912\n",
      "1995 -6.850322723388672\n",
      "1996 -7.337457180023193\n",
      "1997 -6.88342809677124\n",
      "1998 -5.186192989349365\n",
      "1999 -5.975519180297852\n",
      "2000 -6.7265448570251465\n",
      "2001 -5.930727958679199\n",
      "2002 -6.852164268493652\n",
      "2003 -6.402592658996582\n",
      "2004 -7.529717445373535\n",
      "2005 -5.863758563995361\n",
      "2006 -5.543209552764893\n",
      "2007 -6.819293975830078\n",
      "2008 -7.2008957862854\n",
      "2009 -6.997011661529541\n",
      "2010 -4.703649520874023\n",
      "2011 -5.9335737228393555\n",
      "2012 -5.714600563049316\n"
     ]
    }
   ],
   "source": [
    "url='http://climatedataapi.worldbank.org/climateweb/rest/v1/country/cru/tas/year/CAN.csv'\n",
    "response=requests.get(url)\n",
    "if response.status_code != 200:\n",
    "    print ('Failed:', response.status_code)\n",
    "else:\n",
    "    wrapper = csv.reader (response.text.strip().split('\\n'))\n",
    "    for record in wrapper:\n",
    "        if record[0] != 'year':\n",
    "            year=int(record[0])\n",
    "            value=float(record[1])\n",
    "            print(year,value)"
   ]
  },
  {
   "cell_type": "code",
   "execution_count": 44,
   "metadata": {
    "collapsed": false
   },
   "outputs": [],
   "source": [
    "def annual_mean_temp(country):\n",
    "    '''Get the annual mean temp for a country given the 3 char ISO country code'''\n",
    "\n",
    "    url='http://climatedataapi.worldbank.org/climateweb/rest/v1/country/cru/tas/year/' + country + '.csv'\n",
    "    response=requests.get(url)\n",
    "    if response.status_code != 200:\n",
    "        print ('Failed:', response.status_code)\n",
    "    else:\n",
    "        wrapper = csv.reader (response.text.strip().split('\\n'))\n",
    "        results =[]\n",
    "        for record in wrapper:\n",
    "            if record[0] != 'year':\n",
    "                year=int(record[0])\n",
    "                value=float(record[1])\n",
    "                results.append([year, value])\n",
    "        return results"
   ]
  },
  {
   "cell_type": "code",
   "execution_count": 45,
   "metadata": {
    "collapsed": false
   },
   "outputs": [
    {
     "ename": "IndexError",
     "evalue": "list index out of range",
     "output_type": "error",
     "traceback": [
      "\u001b[1;31m---------------------------------------------------------------------------\u001b[0m",
      "\u001b[1;31mIndexError\u001b[0m                                Traceback (most recent call last)",
      "\u001b[1;32m<ipython-input-45-c45f8f0bace1>\u001b[0m in \u001b[0;36m<module>\u001b[1;34m()\u001b[0m\n\u001b[1;32m----> 1\u001b[1;33m \u001b[0mcanada\u001b[0m \u001b[1;33m=\u001b[0m \u001b[0mannual_mean_temp\u001b[0m\u001b[1;33m(\u001b[0m\u001b[1;34m'BLG'\u001b[0m\u001b[1;33m)\u001b[0m\u001b[1;33m\u001b[0m\u001b[0m\n\u001b[0m\u001b[0;32m      2\u001b[0m \u001b[0mprint\u001b[0m \u001b[1;33m(\u001b[0m\u001b[1;34m'First three entries:'\u001b[0m\u001b[1;33m,\u001b[0m \u001b[0mcanada\u001b[0m\u001b[1;33m[\u001b[0m\u001b[1;33m:\u001b[0m\u001b[1;36m3\u001b[0m\u001b[1;33m]\u001b[0m\u001b[1;33m)\u001b[0m\u001b[1;33m\u001b[0m\u001b[0m\n\u001b[0;32m      3\u001b[0m \u001b[1;33m\u001b[0m\u001b[0m\n\u001b[0;32m      4\u001b[0m \u001b[1;33m\u001b[0m\u001b[0m\n\u001b[0;32m      5\u001b[0m \u001b[1;33m\u001b[0m\u001b[0m\n",
      "\u001b[1;32m<ipython-input-44-5f38527bef9d>\u001b[0m in \u001b[0;36mannual_mean_temp\u001b[1;34m(country)\u001b[0m\n\u001b[0;32m     10\u001b[0m         \u001b[0mresults\u001b[0m \u001b[1;33m=\u001b[0m\u001b[1;33m[\u001b[0m\u001b[1;33m]\u001b[0m\u001b[1;33m\u001b[0m\u001b[0m\n\u001b[0;32m     11\u001b[0m         \u001b[1;32mfor\u001b[0m \u001b[0mrecord\u001b[0m \u001b[1;32min\u001b[0m \u001b[0mwrapper\u001b[0m\u001b[1;33m:\u001b[0m\u001b[1;33m\u001b[0m\u001b[0m\n\u001b[1;32m---> 12\u001b[1;33m             \u001b[1;32mif\u001b[0m \u001b[0mrecord\u001b[0m\u001b[1;33m[\u001b[0m\u001b[1;36m0\u001b[0m\u001b[1;33m]\u001b[0m \u001b[1;33m!=\u001b[0m \u001b[1;34m'year'\u001b[0m\u001b[1;33m:\u001b[0m\u001b[1;33m\u001b[0m\u001b[0m\n\u001b[0m\u001b[0;32m     13\u001b[0m                 \u001b[0myear\u001b[0m\u001b[1;33m=\u001b[0m\u001b[0mint\u001b[0m\u001b[1;33m(\u001b[0m\u001b[0mrecord\u001b[0m\u001b[1;33m[\u001b[0m\u001b[1;36m0\u001b[0m\u001b[1;33m]\u001b[0m\u001b[1;33m)\u001b[0m\u001b[1;33m\u001b[0m\u001b[0m\n\u001b[0;32m     14\u001b[0m                 \u001b[0mvalue\u001b[0m\u001b[1;33m=\u001b[0m\u001b[0mfloat\u001b[0m\u001b[1;33m(\u001b[0m\u001b[0mrecord\u001b[0m\u001b[1;33m[\u001b[0m\u001b[1;36m1\u001b[0m\u001b[1;33m]\u001b[0m\u001b[1;33m)\u001b[0m\u001b[1;33m\u001b[0m\u001b[0m\n",
      "\u001b[1;31mIndexError\u001b[0m: list index out of range"
     ]
    }
   ],
   "source": [
    "# Get an error here because BLG isn't a valid country code\n",
    "# Will need to fix this...\n",
    "canada = annual_mean_temp('BLG')\n",
    "print ('First three entries:', canada[:3])\n",
    "\n",
    "\n",
    "\n"
   ]
  },
  {
   "cell_type": "code",
   "execution_count": 46,
   "metadata": {
    "collapsed": true
   },
   "outputs": [],
   "source": [
    "def annual_mean_temp(country):\n",
    "    '''Get the annual mean temp for a country given the 3 char ISO country code'''\n",
    "\n",
    "    url='http://climatedataapi.worldbank.org/climateweb/rest/v1/country/cru/tas/year/' + country + '.csv'\n",
    "    response=requests.get(url)\n",
    "    results =[]\n",
    "    \n",
    "    if len(response.text) > 0: #Good data\n",
    "        wrapper = csv.reader (response.text.strip().split('\\n'))\n",
    "        for record in wrapper:\n",
    "            if record[0] != 'year':\n",
    "                year = int(record[0])\n",
    "                value = float(record[1])\n",
    "                results.append([year, value])\n",
    "    return results\n",
    "    \n",
    "    "
   ]
  },
  {
   "cell_type": "code",
   "execution_count": 47,
   "metadata": {
    "collapsed": false
   },
   "outputs": [
    {
     "name": "stdout",
     "output_type": "stream",
     "text": [
      "Number of records for France 112\n"
     ]
    }
   ],
   "source": [
    "print ('Number of records for France', len(annual_mean_temp('FRA')))"
   ]
  },
  {
   "cell_type": "code",
   "execution_count": 48,
   "metadata": {
    "collapsed": false
   },
   "outputs": [
    {
     "name": "stdout",
     "output_type": "stream",
     "text": [
      "Number of records for Belgerum 0\n"
     ]
    }
   ],
   "source": [
    "print ('Number of records for Belgerum', len(annual_mean_temp('BLG')))\n",
    "# Zero length because Belgerum doesn't exist..."
   ]
  },
  {
   "cell_type": "code",
   "execution_count": null,
   "metadata": {
    "collapsed": true
   },
   "outputs": [],
   "source": [
    "#Write a function to compare surface temps for different countries"
   ]
  },
  {
   "cell_type": "code",
   "execution_count": 49,
   "metadata": {
    "collapsed": true
   },
   "outputs": [],
   "source": [
    "def diff_countries(country_a, country_b):\n",
    "    '''Retrieves lists of [year, value] pairs and returns [year, difference]'''\n",
    "    country_a_data = annual_mean_temp(country_a)\n",
    "    country_b_data = annual_mean_temp(country_b)\n",
    "    num_years = len(country_a_data)\n",
    "    results = []\n",
    "    \n",
    "    for index in range(num_years):\n",
    "        country_a_year, country_a_value = country_a_data[index]\n",
    "        country_b_year, country_b_value = country_b_data[index]\n",
    "        difference = country_a_value - country_b_value\n",
    "        results.append([country_a_year, difference])\n",
    "        \n",
    "    return results"
   ]
  },
  {
   "cell_type": "code",
   "execution_count": 50,
   "metadata": {
    "collapsed": true
   },
   "outputs": [],
   "source": [
    "new_results = diff_countries('BEL', 'GBR')"
   ]
  },
  {
   "cell_type": "code",
   "execution_count": 51,
   "metadata": {
    "collapsed": false
   },
   "outputs": [
    {
     "name": "stdout",
     "output_type": "stream",
     "text": [
      "First three records: [[1901, 0.7147941589355469], [1902, 0.7281551361083984], [1903, 1.2643241882324219]]\n"
     ]
    }
   ],
   "source": [
    "print ('First three records:', new_results[:3])"
   ]
  },
  {
   "cell_type": "code",
   "execution_count": 52,
   "metadata": {
    "collapsed": true
   },
   "outputs": [],
   "source": [
    "from matplotlib import pyplot as plt\n",
    "india = annual_mean_temp('IND')\n",
    "aze = annual_mean_temp('AZE')"
   ]
  },
  {
   "cell_type": "code",
   "execution_count": 53,
   "metadata": {
    "collapsed": false
   },
   "outputs": [
    {
     "name": "stdout",
     "output_type": "stream",
     "text": [
      "First three records: [[1901, 23.736392974853516], [1902, 23.920108795166016], [1903, 23.434696197509766]]\n"
     ]
    }
   ],
   "source": [
    "print ('First three records:', india[:3])"
   ]
  },
  {
   "cell_type": "code",
   "execution_count": 54,
   "metadata": {
    "collapsed": false
   },
   "outputs": [
    {
     "name": "stdout",
     "output_type": "stream",
     "text": [
      "First three records: [[1901, 11.486827850341797], [1902, 10.887903213500977], [1903, 10.655241966247559]]\n"
     ]
    }
   ],
   "source": [
    "print ('First three records:', aze[:3])"
   ]
  },
  {
   "cell_type": "code",
   "execution_count": 55,
   "metadata": {
    "collapsed": true
   },
   "outputs": [],
   "source": [
    "diff_data = diff_countries('IND', 'AZE')"
   ]
  },
  {
   "cell_type": "code",
   "execution_count": 56,
   "metadata": {
    "collapsed": false
   },
   "outputs": [
    {
     "name": "stdout",
     "output_type": "stream",
     "text": [
      "First three records: [[1901, 12.249565124511719], [1902, 13.032205581665039], [1903, 12.779454231262207]]\n"
     ]
    }
   ],
   "source": [
    "print ('First three records:', diff_data[:3])"
   ]
  },
  {
   "cell_type": "code",
   "execution_count": 39,
   "metadata": {
    "collapsed": false
   },
   "outputs": [
    {
     "data": {
      "image/png": "[encoded data removed]",
      "text/plain": [
       "<matplotlib.figure.Figure at 0x7f748e7f9fd0>"
      ]
     },
     "metadata": {},
     "output_type": "display_data"
    }
   ],
   "source": [
    "%matplotlib inline\n",
    "plt.plot(diff_data)\n",
    "plt.show()"
   ]
  },
  {
   "cell_type": "code",
   "execution_count": null,
   "metadata": {
    "collapsed": true
   },
   "outputs": [],
   "source": [
    "# This doesn't look right- we are trying to plot the columns as two seperate sets of data"
   ]
  },
  {
   "cell_type": "code",
   "execution_count": 40,
   "metadata": {
    "collapsed": true
   },
   "outputs": [],
   "source": [
    "# Plot the first column against the second column\n",
    "# Convert the list to a numpy array first\n",
    "import numpy as np\n",
    "diff_array = np.array(diff_data)\n"
   ]
  },
  {
   "cell_type": "code",
   "execution_count": 57,
   "metadata": {
    "collapsed": false
   },
   "outputs": [
    {
     "data": {
      "image/png": "[encoded data removed]",
      "text/plain": [
       "<matplotlib.figure.Figure at 0x7f748e74f080>"
      ]
     },
     "metadata": {},
     "output_type": "display_data"
    }
   ],
   "source": [
    "# Plot all the entries in column 0 against all the entries in column 1\n",
    "plt.plot(diff_array[:, 0], diff_array[:, 1])\n",
    "plt.show()"
   ]
  },
  {
   "cell_type": "code",
   "execution_count": null,
   "metadata": {
    "collapsed": true
   },
   "outputs": [],
   "source": []
  }
 ],
 "metadata": {
  "kernelspec": {
   "display_name": "Python 3.5",
   "language": "python",
   "name": "python3.5"
  },
  "language_info": {
   "codemirror_mode": {
    "name": "ipython",
    "version": 3
   },
   "file_extension": ".py",
   "mimetype": "text/x-python",
   "name": "python",
   "nbconvert_exporter": "python",
   "pygments_lexer": "ipython3",
   "version": "3.5.1"
  }
 },
 "nbformat": 4,
 "nbformat_minor": 0
}
